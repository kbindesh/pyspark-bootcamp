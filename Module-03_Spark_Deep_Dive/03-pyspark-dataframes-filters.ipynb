{
 "cells": [
  {
   "cell_type": "markdown",
   "metadata": {},
   "source": [
    "### PySpark Dataframe - Filters\n",
    "\n",
    "For the data pre-processing, if you want to retrieve the data based on certain conditions you may use filters.\n",
    "\n",
    "- Filter operation\n",
    "- &, |, ==\n",
    "- ~"
   ]
  },
  {
   "cell_type": "code",
   "execution_count": 2,
   "metadata": {},
   "outputs": [],
   "source": [
    "from pyspark.sql import SparkSession"
   ]
  },
  {
   "cell_type": "code",
   "execution_count": 3,
   "metadata": {},
   "outputs": [],
   "source": [
    "spark=SparkSession.builder.appName(\"DataframePartTwo\").getOrCreate()"
   ]
  },
  {
   "cell_type": "code",
   "execution_count": 6,
   "metadata": {},
   "outputs": [
    {
     "name": "stdout",
     "output_type": "stream",
     "text": [
      "+-------------------+---------+------+---------+------+---------+----------+-------------+--------------------+\n",
      "|     Country/Region|Confirmed|Deaths|Recovered|Active|New cases|New deaths|New recovered|          WHO Region|\n",
      "+-------------------+---------+------+---------+------+---------+----------+-------------+--------------------+\n",
      "|        Afghanistan|    36263|  1269|    25198|  9796|      106|        10|           18|Eastern Mediterra...|\n",
      "|            Albania|     4880|   144|     2745|  1991|      117|         6|           63|              Europe|\n",
      "|            Algeria|    27973|  1163|    18837|  7973|      616|         8|          749|              Africa|\n",
      "|            Andorra|      907|    52|      803|    52|       10|         0|            0|              Europe|\n",
      "|             Angola|      950|    41|      242|   667|       18|         1|            0|              Africa|\n",
      "|Antigua and Barbuda|       86|     3|       65|    18|        4|         0|            5|            Americas|\n",
      "|          Argentina|   167416|  3059|    72575| 91782|     4890|       120|         2057|            Americas|\n",
      "|            Armenia|    37390|   711|    26665| 10014|       73|         6|          187|              Europe|\n",
      "|          Australia|    15303|   167|     9311|  5825|      368|         6|          137|     Western Pacific|\n",
      "|            Austria|    20558|   713|    18246|  1599|       86|         1|           37|              Europe|\n",
      "|         Azerbaijan|    30446|   423|    23242|  6781|      396|         6|          558|              Europe|\n",
      "|            Bahamas|      382|    11|       91|   280|       40|         0|            0|            Americas|\n",
      "|            Bahrain|    39482|   141|    36110|  3231|      351|         1|          421|Eastern Mediterra...|\n",
      "|         Bangladesh|   226225|  2965|   125683| 97577|     2772|        37|         1801|     South-East Asia|\n",
      "|           Barbados|      110|     7|       94|     9|        0|         0|            0|            Americas|\n",
      "|            Belarus|    67251|   538|    60492|  6221|      119|         4|           67|              Europe|\n",
      "|            Belgium|    66428|  9822|    17452| 39154|      402|         1|           14|              Europe|\n",
      "|             Belize|       48|     2|       26|    20|        0|         0|            0|            Americas|\n",
      "|              Benin|     1770|    35|     1036|   699|        0|         0|            0|              Africa|\n",
      "|             Bhutan|       99|     0|       86|    13|        4|         0|            1|     South-East Asia|\n",
      "+-------------------+---------+------+---------+------+---------+----------+-------------+--------------------+\n",
      "only showing top 20 rows\n",
      "\n"
     ]
    }
   ],
   "source": [
    "csv_df = spark.read.csv('./notebooks/datasets/country_wise_latest.csv', header=True, inferSchema=True)\n",
    "csv_df.show()"
   ]
  },
  {
   "cell_type": "markdown",
   "metadata": {},
   "source": [
    "### Filter Operation"
   ]
  },
  {
   "cell_type": "code",
   "execution_count": 7,
   "metadata": {},
   "outputs": [
    {
     "name": "stdout",
     "output_type": "stream",
     "text": [
      "+--------------------+---------+------+---------+------+---------+----------+-------------+--------------------+\n",
      "|      Country/Region|Confirmed|Deaths|Recovered|Active|New cases|New deaths|New recovered|          WHO Region|\n",
      "+--------------------+---------+------+---------+------+---------+----------+-------------+--------------------+\n",
      "|         Afghanistan|    36263|  1269|    25198|  9796|      106|        10|           18|Eastern Mediterra...|\n",
      "|             Algeria|    27973|  1163|    18837|  7973|      616|         8|          749|              Africa|\n",
      "|           Argentina|   167416|  3059|    72575| 91782|     4890|       120|         2057|            Americas|\n",
      "|             Armenia|    37390|   711|    26665| 10014|       73|         6|          187|              Europe|\n",
      "|           Australia|    15303|   167|     9311|  5825|      368|         6|          137|     Western Pacific|\n",
      "|          Azerbaijan|    30446|   423|    23242|  6781|      396|         6|          558|              Europe|\n",
      "|          Bangladesh|   226225|  2965|   125683| 97577|     2772|        37|         1801|     South-East Asia|\n",
      "|             Belarus|    67251|   538|    60492|  6221|      119|         4|           67|              Europe|\n",
      "|             Belgium|    66428|  9822|    17452| 39154|      402|         1|           14|              Europe|\n",
      "|             Bolivia|    71181|  2647|    21478| 47056|     1752|        64|          309|            Americas|\n",
      "|Bosnia and Herzeg...|    10498|   294|     4930|  5274|      731|        14|          375|              Europe|\n",
      "|              Brazil|  2442375| 87618|  1846641|508116|    23284|       614|        33728|            Americas|\n",
      "|              Canada|   116458|  8944|        0|107514|      682|        11|            0|            Americas|\n",
      "|               Chile|   347923|  9187|   319954| 18782|     2133|        75|         1859|            Americas|\n",
      "|            Colombia|   257101|  8777|   131161|117163|    16306|       508|        11494|            Americas|\n",
      "|          Costa Rica|    15841|   115|     3824| 11902|      612|        11|           88|            Americas|\n",
      "|       Cote d'Ivoire|    15655|    96|    10361|  5198|       59|         0|          183|              Africa|\n",
      "|  Dominican Republic|    64156|  1083|    30204| 32869|     1248|        20|         1601|            Americas|\n",
      "|             Ecuador|    81161|  5532|    34896| 40733|      467|        17|            0|            Americas|\n",
      "|               Egypt|    92482|  4652|    34838| 52992|      420|        46|         1007|Eastern Mediterra...|\n",
      "+--------------------+---------+------+---------+------+---------+----------+-------------+--------------------+\n",
      "only showing top 20 rows\n",
      "\n"
     ]
    }
   ],
   "source": [
    "# Active covid cases greater than or equal to 5000\n",
    "csv_df.filter(\"Active>=5000\").show()"
   ]
  },
  {
   "cell_type": "markdown",
   "metadata": {},
   "source": []
  },
  {
   "cell_type": "code",
   "execution_count": 10,
   "metadata": {},
   "outputs": [
    {
     "name": "stdout",
     "output_type": "stream",
     "text": [
      "+--------------------+------+\n",
      "|      Country/Region|Active|\n",
      "+--------------------+------+\n",
      "|         Afghanistan|  9796|\n",
      "|             Algeria|  7973|\n",
      "|           Argentina| 91782|\n",
      "|             Armenia| 10014|\n",
      "|           Australia|  5825|\n",
      "|          Azerbaijan|  6781|\n",
      "|          Bangladesh| 97577|\n",
      "|             Belarus|  6221|\n",
      "|             Belgium| 39154|\n",
      "|             Bolivia| 47056|\n",
      "|Bosnia and Herzeg...|  5274|\n",
      "|              Brazil|508116|\n",
      "|              Canada|107514|\n",
      "|               Chile| 18782|\n",
      "|            Colombia|117163|\n",
      "|          Costa Rica| 11902|\n",
      "|       Cote d'Ivoire|  5198|\n",
      "|  Dominican Republic| 32869|\n",
      "|             Ecuador| 40733|\n",
      "|               Egypt| 52992|\n",
      "+--------------------+------+\n",
      "only showing top 20 rows\n",
      "\n"
     ]
    }
   ],
   "source": [
    "# Fetch the filtered records with selected columns\n",
    "csv_df.filter(\"Active>=5000\").select(['Country/Region', 'Active']).show()"
   ]
  },
  {
   "cell_type": "code",
   "execution_count": 18,
   "metadata": {},
   "outputs": [
    {
     "name": "stdout",
     "output_type": "stream",
     "text": [
      "+--------------------+---------+------+---------+------+---------+----------+-------------+--------------------+\n",
      "|      Country/Region|Confirmed|Deaths|Recovered|Active|New cases|New deaths|New recovered|          WHO Region|\n",
      "+--------------------+---------+------+---------+------+---------+----------+-------------+--------------------+\n",
      "|         Afghanistan|    36263|  1269|    25198|  9796|      106|        10|           18|Eastern Mediterra...|\n",
      "|             Algeria|    27973|  1163|    18837|  7973|      616|         8|          749|              Africa|\n",
      "|           Australia|    15303|   167|     9311|  5825|      368|         6|          137|     Western Pacific|\n",
      "|          Azerbaijan|    30446|   423|    23242|  6781|      396|         6|          558|              Europe|\n",
      "|             Belarus|    67251|   538|    60492|  6221|      119|         4|           67|              Europe|\n",
      "|Bosnia and Herzeg...|    10498|   294|     4930|  5274|      731|        14|          375|              Europe|\n",
      "|       Cote d'Ivoire|    15655|    96|    10361|  5198|       59|         0|          183|              Africa|\n",
      "|         El Salvador|    15035|   408|     7778|  6849|      405|         8|          130|            Americas|\n",
      "|            Ethiopia|    14547|   228|     6386|  7933|      579|         5|          170|              Africa|\n",
      "|             Germany|   207112|  9125|   190314|  7673|      445|         1|          259|              Europe|\n",
      "|               Japan|    31142|   998|    21970|  8174|      594|         0|          364|     Western Pacific|\n",
      "|               Kenya|    17975|   285|     7833|  9857|      372|         5|           90|              Africa|\n",
      "|              Kuwait|    64379|   438|    55057|  8884|      606|         5|          684|Eastern Mediterra...|\n",
      "|             Moldova|    23154|   748|    16154|  6252|      120|        13|          245|              Europe|\n",
      "|              Poland|    43402|  1676|    32856|  8870|      337|         5|          103|              Europe|\n",
      "|           Singapore|    50838|    27|    45692|  5119|      469|         0|          171|     Western Pacific|\n",
      "|United Arab Emirates|    59177|   345|    52510|  6322|      264|         1|          328|Eastern Mediterra...|\n",
      "|          Uzbekistan|    21209|   121|    11674|  9414|      678|         5|          569|              Europe|\n",
      "|           Venezuela|    15988|   146|     9959|  5883|      525|         4|          213|            Americas|\n",
      "|  West Bank and Gaza|    10621|    78|     3752|  6791|      152|         2|            0|Eastern Mediterra...|\n",
      "+--------------------+---------+------+---------+------+---------+----------+-------------+--------------------+\n",
      "\n"
     ]
    }
   ],
   "source": [
    "# Fetch the records based on multiple conditions (&)\n",
    "csv_df.filter((csv_df['Active']>5000) & (csv_df['Active']<10000)).show()"
   ]
  },
  {
   "cell_type": "code",
   "execution_count": 19,
   "metadata": {},
   "outputs": [
    {
     "name": "stdout",
     "output_type": "stream",
     "text": [
      "+-------------------+---------+------+---------+------+---------+----------+-------------+--------------------+\n",
      "|     Country/Region|Confirmed|Deaths|Recovered|Active|New cases|New deaths|New recovered|          WHO Region|\n",
      "+-------------------+---------+------+---------+------+---------+----------+-------------+--------------------+\n",
      "|        Afghanistan|    36263|  1269|    25198|  9796|      106|        10|           18|Eastern Mediterra...|\n",
      "|            Albania|     4880|   144|     2745|  1991|      117|         6|           63|              Europe|\n",
      "|            Algeria|    27973|  1163|    18837|  7973|      616|         8|          749|              Africa|\n",
      "|            Andorra|      907|    52|      803|    52|       10|         0|            0|              Europe|\n",
      "|             Angola|      950|    41|      242|   667|       18|         1|            0|              Africa|\n",
      "|Antigua and Barbuda|       86|     3|       65|    18|        4|         0|            5|            Americas|\n",
      "|          Argentina|   167416|  3059|    72575| 91782|     4890|       120|         2057|            Americas|\n",
      "|            Armenia|    37390|   711|    26665| 10014|       73|         6|          187|              Europe|\n",
      "|          Australia|    15303|   167|     9311|  5825|      368|         6|          137|     Western Pacific|\n",
      "|            Austria|    20558|   713|    18246|  1599|       86|         1|           37|              Europe|\n",
      "|         Azerbaijan|    30446|   423|    23242|  6781|      396|         6|          558|              Europe|\n",
      "|            Bahamas|      382|    11|       91|   280|       40|         0|            0|            Americas|\n",
      "|            Bahrain|    39482|   141|    36110|  3231|      351|         1|          421|Eastern Mediterra...|\n",
      "|         Bangladesh|   226225|  2965|   125683| 97577|     2772|        37|         1801|     South-East Asia|\n",
      "|           Barbados|      110|     7|       94|     9|        0|         0|            0|            Americas|\n",
      "|            Belarus|    67251|   538|    60492|  6221|      119|         4|           67|              Europe|\n",
      "|            Belgium|    66428|  9822|    17452| 39154|      402|         1|           14|              Europe|\n",
      "|             Belize|       48|     2|       26|    20|        0|         0|            0|            Americas|\n",
      "|              Benin|     1770|    35|     1036|   699|        0|         0|            0|              Africa|\n",
      "|             Bhutan|       99|     0|       86|    13|        4|         0|            1|     South-East Asia|\n",
      "+-------------------+---------+------+---------+------+---------+----------+-------------+--------------------+\n",
      "only showing top 20 rows\n",
      "\n"
     ]
    }
   ],
   "source": [
    "# Fetch the records based on multiple OR conditions\n",
    "csv_df.filter((csv_df['Active']>5000) | (csv_df['Active']<10000)).show()"
   ]
  },
  {
   "cell_type": "code",
   "execution_count": 20,
   "metadata": {},
   "outputs": [
    {
     "name": "stdout",
     "output_type": "stream",
     "text": [
      "+-------------------+---------+------+---------+------+---------+----------+-------------+--------------------+\n",
      "|     Country/Region|Confirmed|Deaths|Recovered|Active|New cases|New deaths|New recovered|          WHO Region|\n",
      "+-------------------+---------+------+---------+------+---------+----------+-------------+--------------------+\n",
      "|            Albania|     4880|   144|     2745|  1991|      117|         6|           63|              Europe|\n",
      "|            Andorra|      907|    52|      803|    52|       10|         0|            0|              Europe|\n",
      "|             Angola|      950|    41|      242|   667|       18|         1|            0|              Africa|\n",
      "|Antigua and Barbuda|       86|     3|       65|    18|        4|         0|            5|            Americas|\n",
      "|            Austria|    20558|   713|    18246|  1599|       86|         1|           37|              Europe|\n",
      "|            Bahamas|      382|    11|       91|   280|       40|         0|            0|            Americas|\n",
      "|            Bahrain|    39482|   141|    36110|  3231|      351|         1|          421|Eastern Mediterra...|\n",
      "|           Barbados|      110|     7|       94|     9|        0|         0|            0|            Americas|\n",
      "|             Belize|       48|     2|       26|    20|        0|         0|            0|            Americas|\n",
      "|              Benin|     1770|    35|     1036|   699|        0|         0|            0|              Africa|\n",
      "|             Bhutan|       99|     0|       86|    13|        4|         0|            1|     South-East Asia|\n",
      "|           Botswana|      739|     2|       63|   674|       53|         1|           11|              Africa|\n",
      "|             Brunei|      141|     3|      138|     0|        0|         0|            0|     Western Pacific|\n",
      "|           Bulgaria|    10621|   347|     5585|  4689|      194|         7|          230|              Europe|\n",
      "|       Burkina Faso|     1100|    53|      926|   121|       14|         0|            6|              Africa|\n",
      "|              Burma|      350|     6|      292|    52|        0|         0|            2|     South-East Asia|\n",
      "|            Burundi|      378|     1|      301|    76|       17|         0|           22|              Africa|\n",
      "|         Cabo Verde|     2328|    22|     1550|   756|       21|         0|          103|              Africa|\n",
      "|           Cambodia|      226|     0|      147|    79|        1|         0|            4|     Western Pacific|\n",
      "|           Cameroon|    17110|   391|    14539|  2180|      402|         6|            0|              Africa|\n",
      "+-------------------+---------+------+---------+------+---------+----------+-------------+--------------------+\n",
      "only showing top 20 rows\n",
      "\n"
     ]
    }
   ],
   "source": [
    "# NOT or Inverse operation\n",
    "# Fetch the records based on multiple conditions\n",
    "csv_df.filter(~(csv_df['Active']>5000)).show()"
   ]
  },
  {
   "cell_type": "code",
   "execution_count": null,
   "metadata": {},
   "outputs": [],
   "source": []
  }
 ],
 "metadata": {
  "kernelspec": {
   "display_name": "Python 3",
   "language": "python",
   "name": "python3"
  },
  "language_info": {
   "codemirror_mode": {
    "name": "ipython",
    "version": 3
   },
   "file_extension": ".py",
   "mimetype": "text/x-python",
   "name": "python",
   "nbconvert_exporter": "python",
   "pygments_lexer": "ipython3",
   "version": "3.11.9"
  }
 },
 "nbformat": 4,
 "nbformat_minor": 2
}
