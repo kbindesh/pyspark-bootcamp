{
 "cells": [
  {
   "cell_type": "markdown",
   "metadata": {},
   "source": [
    "## Preprocessing data with PySpark Dataframes\n",
    "\n",
    "In this section, we will learn following concepts:\n",
    "- Documentation\n",
    "- Reading the DataSet (.csv)\n",
    "- Reading dataset with column header\n",
    "- Checking the data type of the columns (DF schema)\n",
    "- Selecting columns and Indexing\n",
    "- Adding new columns to the dataframe\n",
    "- Drop existing columns fromt he dataframe\n",
    "- Renaming columns in the dataframe"
   ]
  },
  {
   "cell_type": "markdown",
   "metadata": {},
   "source": [
    "Step-01: Documentation"
   ]
  },
  {
   "cell_type": "markdown",
   "metadata": {},
   "source": [
    "- [pyspark.sql.DataFrameReader.csv](https://spark.apache.org/docs/latest/api/python/reference/pyspark.sql/api/pyspark.sql.DataFrameReader.csv.html)\n",
    "- [pyspark.sql.DataFrameReader.json](https://spark.apache.org/docs/latest/api/python/reference/pyspark.sql/api/pyspark.sql.DataFrameReader.json.html)\n",
    "- [pyspark.sql.DataFrameReader.load](https://spark.apache.org/docs/latest/api/python/reference/pyspark.sql/api/pyspark.sql.DataFrameReader.load.html)\n",
    "- [pyspark.sql.DataFrameReader.option](https://spark.apache.org/docs/latest/api/python/reference/pyspark.sql/api/pyspark.sql.DataFrameReader.option.html)\n",
    "- [pyspark.sql.DataFrameReader.parquet](https://spark.apache.org/docs/latest/api/python/reference/pyspark.sql/api/pyspark.sql.DataFrameReader.parquet.html)\n",
    "- [pyspark.sql.DataFrameWriter.csv](https://spark.apache.org/docs/latest/api/python/reference/pyspark.sql/api/pyspark.sql.DataFrameWriter.csv.html)\n",
    "\n"
   ]
  },
  {
   "cell_type": "code",
   "execution_count": 4,
   "metadata": {},
   "outputs": [],
   "source": [
    "# import pyspark package\n",
    "import pyspark\n",
    "from pyspark.sql import SparkSession"
   ]
  },
  {
   "cell_type": "code",
   "execution_count": 5,
   "metadata": {},
   "outputs": [],
   "source": [
    "# Create a new Spark session\n",
    "spark=SparkSession.builder.appName(\"DataframePartOne\").getOrCreate()"
   ]
  },
  {
   "cell_type": "code",
   "execution_count": 9,
   "metadata": {},
   "outputs": [],
   "source": [
    "# Read a Dataset | Create a Dataframe from a csv dataset\n",
    "csv_df = spark.read.csv('./notebooks/datasets/country_wise_latest.csv')"
   ]
  },
  {
   "cell_type": "code",
   "execution_count": 10,
   "metadata": {},
   "outputs": [
    {
     "name": "stdout",
     "output_type": "stream",
     "text": [
      "+-------------------+---------+------+---------+------+---------+----------+-------------+--------------------+\n",
      "|                _c0|      _c1|   _c2|      _c3|   _c4|      _c5|       _c6|          _c7|                 _c8|\n",
      "+-------------------+---------+------+---------+------+---------+----------+-------------+--------------------+\n",
      "|     Country/Region|Confirmed|Deaths|Recovered|Active|New cases|New deaths|New recovered|          WHO Region|\n",
      "|        Afghanistan|    36263|  1269|    25198|  9796|      106|        10|           18|Eastern Mediterra...|\n",
      "|            Albania|     4880|   144|     2745|  1991|      117|         6|           63|              Europe|\n",
      "|            Algeria|    27973|  1163|    18837|  7973|      616|         8|          749|              Africa|\n",
      "|            Andorra|      907|    52|      803|    52|       10|         0|            0|              Europe|\n",
      "|             Angola|      950|    41|      242|   667|       18|         1|            0|              Africa|\n",
      "|Antigua and Barbuda|       86|     3|       65|    18|        4|         0|            5|            Americas|\n",
      "|          Argentina|   167416|  3059|    72575| 91782|     4890|       120|         2057|            Americas|\n",
      "|            Armenia|    37390|   711|    26665| 10014|       73|         6|          187|              Europe|\n",
      "|          Australia|    15303|   167|     9311|  5825|      368|         6|          137|     Western Pacific|\n",
      "|            Austria|    20558|   713|    18246|  1599|       86|         1|           37|              Europe|\n",
      "|         Azerbaijan|    30446|   423|    23242|  6781|      396|         6|          558|              Europe|\n",
      "|            Bahamas|      382|    11|       91|   280|       40|         0|            0|            Americas|\n",
      "|            Bahrain|    39482|   141|    36110|  3231|      351|         1|          421|Eastern Mediterra...|\n",
      "|         Bangladesh|   226225|  2965|   125683| 97577|     2772|        37|         1801|     South-East Asia|\n",
      "|           Barbados|      110|     7|       94|     9|        0|         0|            0|            Americas|\n",
      "|            Belarus|    67251|   538|    60492|  6221|      119|         4|           67|              Europe|\n",
      "|            Belgium|    66428|  9822|    17452| 39154|      402|         1|           14|              Europe|\n",
      "|             Belize|       48|     2|       26|    20|        0|         0|            0|            Americas|\n",
      "|              Benin|     1770|    35|     1036|   699|        0|         0|            0|              Africa|\n",
      "+-------------------+---------+------+---------+------+---------+----------+-------------+--------------------+\n",
      "only showing top 20 rows\n",
      "\n"
     ]
    }
   ],
   "source": [
    "csv_df.show()"
   ]
  },
  {
   "cell_type": "code",
   "execution_count": 6,
   "metadata": {},
   "outputs": [],
   "source": [
    "# Read a Dataset | Create a Dataframe from a csv dataset with column header\n",
    "csv_df = spark.read.option('header','true').csv('./notebooks/datasets/country_wise_latest.csv')"
   ]
  },
  {
   "cell_type": "code",
   "execution_count": 14,
   "metadata": {},
   "outputs": [
    {
     "name": "stdout",
     "output_type": "stream",
     "text": [
      "+-------------------+---------+------+---------+------+---------+----------+-------------+--------------------+\n",
      "|     Country/Region|Confirmed|Deaths|Recovered|Active|New cases|New deaths|New recovered|          WHO Region|\n",
      "+-------------------+---------+------+---------+------+---------+----------+-------------+--------------------+\n",
      "|        Afghanistan|    36263|  1269|    25198|  9796|      106|        10|           18|Eastern Mediterra...|\n",
      "|            Albania|     4880|   144|     2745|  1991|      117|         6|           63|              Europe|\n",
      "|            Algeria|    27973|  1163|    18837|  7973|      616|         8|          749|              Africa|\n",
      "|            Andorra|      907|    52|      803|    52|       10|         0|            0|              Europe|\n",
      "|             Angola|      950|    41|      242|   667|       18|         1|            0|              Africa|\n",
      "|Antigua and Barbuda|       86|     3|       65|    18|        4|         0|            5|            Americas|\n",
      "|          Argentina|   167416|  3059|    72575| 91782|     4890|       120|         2057|            Americas|\n",
      "|            Armenia|    37390|   711|    26665| 10014|       73|         6|          187|              Europe|\n",
      "|          Australia|    15303|   167|     9311|  5825|      368|         6|          137|     Western Pacific|\n",
      "|            Austria|    20558|   713|    18246|  1599|       86|         1|           37|              Europe|\n",
      "|         Azerbaijan|    30446|   423|    23242|  6781|      396|         6|          558|              Europe|\n",
      "|            Bahamas|      382|    11|       91|   280|       40|         0|            0|            Americas|\n",
      "|            Bahrain|    39482|   141|    36110|  3231|      351|         1|          421|Eastern Mediterra...|\n",
      "|         Bangladesh|   226225|  2965|   125683| 97577|     2772|        37|         1801|     South-East Asia|\n",
      "|           Barbados|      110|     7|       94|     9|        0|         0|            0|            Americas|\n",
      "|            Belarus|    67251|   538|    60492|  6221|      119|         4|           67|              Europe|\n",
      "|            Belgium|    66428|  9822|    17452| 39154|      402|         1|           14|              Europe|\n",
      "|             Belize|       48|     2|       26|    20|        0|         0|            0|            Americas|\n",
      "|              Benin|     1770|    35|     1036|   699|        0|         0|            0|              Africa|\n",
      "|             Bhutan|       99|     0|       86|    13|        4|         0|            1|     South-East Asia|\n",
      "+-------------------+---------+------+---------+------+---------+----------+-------------+--------------------+\n",
      "only showing top 20 rows\n",
      "\n"
     ]
    }
   ],
   "source": [
    "csv_df.show()"
   ]
  },
  {
   "cell_type": "code",
   "execution_count": 16,
   "metadata": {},
   "outputs": [],
   "source": [
    "# Another way of reading a csv dataset with a column header\n",
    "csv_df = spark.read.format(\"csv\").option('header','true').load('./notebooks/datasets/country_wise_latest.csv')"
   ]
  },
  {
   "cell_type": "code",
   "execution_count": 17,
   "metadata": {},
   "outputs": [
    {
     "name": "stdout",
     "output_type": "stream",
     "text": [
      "+--------------+---------+------+---------+------+---------+----------+-------------+--------------------+\n",
      "|Country/Region|Confirmed|Deaths|Recovered|Active|New cases|New deaths|New recovered|          WHO Region|\n",
      "+--------------+---------+------+---------+------+---------+----------+-------------+--------------------+\n",
      "|   Afghanistan|    36263|  1269|    25198|  9796|      106|        10|           18|Eastern Mediterra...|\n",
      "|       Albania|     4880|   144|     2745|  1991|      117|         6|           63|              Europe|\n",
      "+--------------+---------+------+---------+------+---------+----------+-------------+--------------------+\n",
      "only showing top 2 rows\n",
      "\n"
     ]
    }
   ],
   "source": [
    "# Display top rows \"n\" of the dataframe\n",
    "csv_df.show(2)"
   ]
  },
  {
   "cell_type": "code",
   "execution_count": 18,
   "metadata": {},
   "outputs": [
    {
     "name": "stdout",
     "output_type": "stream",
     "text": [
      "root\n",
      " |-- Country/Region: string (nullable = true)\n",
      " |-- Confirmed: string (nullable = true)\n",
      " |-- Deaths: string (nullable = true)\n",
      " |-- Recovered: string (nullable = true)\n",
      " |-- Active: string (nullable = true)\n",
      " |-- New cases: string (nullable = true)\n",
      " |-- New deaths: string (nullable = true)\n",
      " |-- New recovered: string (nullable = true)\n",
      " |-- WHO Region: string (nullable = true)\n",
      "\n"
     ]
    }
   ],
   "source": [
    "# Print the schema (datatypes of cols) of the dataframe\n",
    "csv_df.printSchema()"
   ]
  },
  {
   "cell_type": "markdown",
   "metadata": {},
   "source": [
    "### Adding column in Dataframe"
   ]
  },
  {
   "cell_type": "code",
   "execution_count": 11,
   "metadata": {},
   "outputs": [
    {
     "name": "stdout",
     "output_type": "stream",
     "text": [
      "+-------------------+---------+------+---------+------+---------+----------+-------------+--------------------+------------+\n",
      "|     Country/Region|Confirmed|Deaths|Recovered|Active|New cases|New deaths|New recovered|          WHO Region|Total Deaths|\n",
      "+-------------------+---------+------+---------+------+---------+----------+-------------+--------------------+------------+\n",
      "|        Afghanistan|    36263|  1269|    25198|  9796|      106|        10|           18|Eastern Mediterra...|      1279.0|\n",
      "|            Albania|     4880|   144|     2745|  1991|      117|         6|           63|              Europe|       150.0|\n",
      "|            Algeria|    27973|  1163|    18837|  7973|      616|         8|          749|              Africa|      1171.0|\n",
      "|            Andorra|      907|    52|      803|    52|       10|         0|            0|              Europe|        52.0|\n",
      "|             Angola|      950|    41|      242|   667|       18|         1|            0|              Africa|        42.0|\n",
      "|Antigua and Barbuda|       86|     3|       65|    18|        4|         0|            5|            Americas|         3.0|\n",
      "|          Argentina|   167416|  3059|    72575| 91782|     4890|       120|         2057|            Americas|      3179.0|\n",
      "|            Armenia|    37390|   711|    26665| 10014|       73|         6|          187|              Europe|       717.0|\n",
      "|          Australia|    15303|   167|     9311|  5825|      368|         6|          137|     Western Pacific|       173.0|\n",
      "|            Austria|    20558|   713|    18246|  1599|       86|         1|           37|              Europe|       714.0|\n",
      "|         Azerbaijan|    30446|   423|    23242|  6781|      396|         6|          558|              Europe|       429.0|\n",
      "|            Bahamas|      382|    11|       91|   280|       40|         0|            0|            Americas|        11.0|\n",
      "|            Bahrain|    39482|   141|    36110|  3231|      351|         1|          421|Eastern Mediterra...|       142.0|\n",
      "|         Bangladesh|   226225|  2965|   125683| 97577|     2772|        37|         1801|     South-East Asia|      3002.0|\n",
      "|           Barbados|      110|     7|       94|     9|        0|         0|            0|            Americas|         7.0|\n",
      "|            Belarus|    67251|   538|    60492|  6221|      119|         4|           67|              Europe|       542.0|\n",
      "|            Belgium|    66428|  9822|    17452| 39154|      402|         1|           14|              Europe|      9823.0|\n",
      "|             Belize|       48|     2|       26|    20|        0|         0|            0|            Americas|         2.0|\n",
      "|              Benin|     1770|    35|     1036|   699|        0|         0|            0|              Africa|        35.0|\n",
      "|             Bhutan|       99|     0|       86|    13|        4|         0|            1|     South-East Asia|         0.0|\n",
      "+-------------------+---------+------+---------+------+---------+----------+-------------+--------------------+------------+\n",
      "only showing top 20 rows\n",
      "\n"
     ]
    }
   ],
   "source": [
    "csv_df.withColumn('Total Deaths',csv_df['Deaths']+csv_df['New deaths']).show()"
   ]
  },
  {
   "cell_type": "code",
   "execution_count": 9,
   "metadata": {},
   "outputs": [
    {
     "name": "stdout",
     "output_type": "stream",
     "text": [
      "root\n",
      " |-- Country/Region: string (nullable = true)\n",
      " |-- Confirmed: string (nullable = true)\n",
      " |-- Deaths: string (nullable = true)\n",
      " |-- Recovered: string (nullable = true)\n",
      " |-- Active: string (nullable = true)\n",
      " |-- New cases: string (nullable = true)\n",
      " |-- New deaths: string (nullable = true)\n",
      " |-- New recovered: string (nullable = true)\n",
      " |-- WHO Region: string (nullable = true)\n",
      "\n"
     ]
    }
   ],
   "source": [
    "csv_df.printSchema()"
   ]
  },
  {
   "cell_type": "markdown",
   "metadata": {},
   "source": [
    "### Drop a Column (Delete) from Dataframe"
   ]
  },
  {
   "cell_type": "code",
   "execution_count": 13,
   "metadata": {},
   "outputs": [
    {
     "name": "stdout",
     "output_type": "stream",
     "text": [
      "+-------------------+---------+------+---------+----------+-------------+--------------------+\n",
      "|     Country/Region|Recovered|Active|New cases|New deaths|New recovered|          WHO Region|\n",
      "+-------------------+---------+------+---------+----------+-------------+--------------------+\n",
      "|        Afghanistan|    25198|  9796|      106|        10|           18|Eastern Mediterra...|\n",
      "|            Albania|     2745|  1991|      117|         6|           63|              Europe|\n",
      "|            Algeria|    18837|  7973|      616|         8|          749|              Africa|\n",
      "|            Andorra|      803|    52|       10|         0|            0|              Europe|\n",
      "|             Angola|      242|   667|       18|         1|            0|              Africa|\n",
      "|Antigua and Barbuda|       65|    18|        4|         0|            5|            Americas|\n",
      "|          Argentina|    72575| 91782|     4890|       120|         2057|            Americas|\n",
      "|            Armenia|    26665| 10014|       73|         6|          187|              Europe|\n",
      "|          Australia|     9311|  5825|      368|         6|          137|     Western Pacific|\n",
      "|            Austria|    18246|  1599|       86|         1|           37|              Europe|\n",
      "|         Azerbaijan|    23242|  6781|      396|         6|          558|              Europe|\n",
      "|            Bahamas|       91|   280|       40|         0|            0|            Americas|\n",
      "|            Bahrain|    36110|  3231|      351|         1|          421|Eastern Mediterra...|\n",
      "|         Bangladesh|   125683| 97577|     2772|        37|         1801|     South-East Asia|\n",
      "|           Barbados|       94|     9|        0|         0|            0|            Americas|\n",
      "|            Belarus|    60492|  6221|      119|         4|           67|              Europe|\n",
      "|            Belgium|    17452| 39154|      402|         1|           14|              Europe|\n",
      "|             Belize|       26|    20|        0|         0|            0|            Americas|\n",
      "|              Benin|     1036|   699|        0|         0|            0|              Africa|\n",
      "|             Bhutan|       86|    13|        4|         0|            1|     South-East Asia|\n",
      "+-------------------+---------+------+---------+----------+-------------+--------------------+\n",
      "only showing top 20 rows\n",
      "\n"
     ]
    }
   ],
   "source": [
    "csv_df.drop('Confirmed','Deaths').show()"
   ]
  },
  {
   "cell_type": "markdown",
   "metadata": {},
   "source": [
    "### Drop a row based on Null values"
   ]
  },
  {
   "cell_type": "code",
   "execution_count": 16,
   "metadata": {},
   "outputs": [
    {
     "name": "stdout",
     "output_type": "stream",
     "text": [
      "+-------------------+---------+------+---------+------+---------+----------+-------------+--------------------+\n",
      "|     Country/Region|Confirmed|Deaths|Recovered|Active|New cases|New deaths|New recovered|          WHO Region|\n",
      "+-------------------+---------+------+---------+------+---------+----------+-------------+--------------------+\n",
      "|        Afghanistan|    36263|  1269|    25198|  9796|      106|        10|           18|Eastern Mediterra...|\n",
      "|            Albania|     4880|   144|     2745|  1991|      117|         6|           63|              Europe|\n",
      "|            Algeria|    27973|  1163|    18837|  7973|      616|         8|          749|              Africa|\n",
      "|            Andorra|      907|    52|      803|    52|       10|         0|            0|              Europe|\n",
      "|             Angola|      950|    41|      242|   667|       18|         1|            0|              Africa|\n",
      "|Antigua and Barbuda|       86|     3|       65|    18|        4|         0|            5|            Americas|\n",
      "|          Argentina|   167416|  3059|    72575| 91782|     4890|       120|         2057|            Americas|\n",
      "|            Armenia|    37390|   711|    26665| 10014|       73|         6|          187|              Europe|\n",
      "|          Australia|    15303|   167|     9311|  5825|      368|         6|          137|     Western Pacific|\n",
      "|            Austria|    20558|   713|    18246|  1599|       86|         1|           37|              Europe|\n",
      "|         Azerbaijan|    30446|   423|    23242|  6781|      396|         6|          558|              Europe|\n",
      "|            Bahamas|      382|    11|       91|   280|       40|         0|            0|            Americas|\n",
      "|            Bahrain|    39482|   141|    36110|  3231|      351|         1|          421|Eastern Mediterra...|\n",
      "|         Bangladesh|   226225|  2965|   125683| 97577|     2772|        37|         1801|     South-East Asia|\n",
      "|           Barbados|      110|     7|       94|     9|        0|         0|            0|            Americas|\n",
      "|            Belarus|    67251|   538|    60492|  6221|      119|         4|           67|              Europe|\n",
      "|            Belgium|    66428|  9822|    17452| 39154|      402|         1|           14|              Europe|\n",
      "|             Belize|       48|     2|       26|    20|        0|         0|            0|            Americas|\n",
      "|              Benin|     1770|    35|     1036|   699|        0|         0|            0|              Africa|\n",
      "|             Bhutan|       99|     0|       86|    13|        4|         0|            1|     South-East Asia|\n",
      "+-------------------+---------+------+---------+------+---------+----------+-------------+--------------------+\n",
      "only showing top 20 rows\n",
      "\n"
     ]
    }
   ],
   "source": [
    "# Delete all the rows which has a null value in any column\n",
    "csv_df.na.drop().show()"
   ]
  },
  {
   "cell_type": "code",
   "execution_count": 19,
   "metadata": {},
   "outputs": [
    {
     "data": {
      "text/plain": [
       "DataFrame[Country/Region: string, Confirmed: string, Deaths: string, Recovered: string, Active: string, New cases: string, New deaths: string, New recovered: string, WHO Region: string]"
      ]
     },
     "execution_count": 19,
     "metadata": {},
     "output_type": "execute_result"
    }
   ],
   "source": [
    "# \"How\" can have two values: any OR all\n",
    "# Delete a row only if all the column values are null\n",
    "csv_df.na.drop(how='all')"
   ]
  },
  {
   "cell_type": "code",
   "execution_count": null,
   "metadata": {},
   "outputs": [],
   "source": [
    "# Delete a row even if atleast one column values has null value\n",
    "csv_df.na.drop(how='any')"
   ]
  },
  {
   "cell_type": "code",
   "execution_count": 21,
   "metadata": {},
   "outputs": [
    {
     "data": {
      "text/plain": [
       "DataFrame[Country/Region: string, Confirmed: string, Deaths: string, Recovered: string, Active: string, New cases: string, New deaths: string, New recovered: string, WHO Region: string]"
      ]
     },
     "execution_count": 21,
     "metadata": {},
     "output_type": "execute_result"
    }
   ],
   "source": [
    "# Delete a row using threshhold | Delete the row only if you have atleast \"3 non-nulls\" in the row\n",
    "csv_df.na.drop(how='any', thresh=3)"
   ]
  },
  {
   "cell_type": "code",
   "execution_count": 31,
   "metadata": {},
   "outputs": [
    {
     "data": {
      "text/plain": [
       "DataFrame[Country/Region: string, Confirmed: string, Deaths: string, Recovered: string, Active: string, New cases: string, New deaths: string, New recovered: string, WHO Region: string]"
      ]
     },
     "execution_count": 31,
     "metadata": {},
     "output_type": "execute_result"
    }
   ],
   "source": [
    "# Delete a row using \"subset\" | Delete the row based on the null values present in a particular column(s)\n",
    "csv_df.na.drop(how=\"any\", subset=[\"Deaths\"])"
   ]
  },
  {
   "cell_type": "markdown",
   "metadata": {},
   "source": [
    "### Filling the null (or missing) values"
   ]
  },
  {
   "cell_type": "code",
   "execution_count": 33,
   "metadata": {},
   "outputs": [
    {
     "data": {
      "text/plain": [
       "DataFrame[Country/Region: string, Confirmed: string, Deaths: string, Recovered: string, Active: string, New cases: string, New deaths: string, New recovered: string, WHO Region: string]"
      ]
     },
     "execution_count": 33,
     "metadata": {},
     "output_type": "execute_result"
    }
   ],
   "source": [
    "# Replace all the null values in the dataframe with some value | Use \"fill()\"\n",
    "csv_df.na.fill(10,'Deaths')"
   ]
  },
  {
   "cell_type": "markdown",
   "metadata": {},
   "source": [
    "### GlobalTempView"
   ]
  },
  {
   "cell_type": "code",
   "execution_count": null,
   "metadata": {},
   "outputs": [],
   "source": [
    "csv_df.createGlobalTempView(\"sampleViewBin\")"
   ]
  },
  {
   "cell_type": "code",
   "execution_count": null,
   "metadata": {
    "vscode": {
     "languageId": "sql"
    }
   },
   "outputs": [],
   "source": [
    "# Change the cell type from Python to SQL and run it\n",
    "select * from sampleViewBin"
   ]
  }
 ],
 "metadata": {
  "kernelspec": {
   "display_name": "Python 3",
   "language": "python",
   "name": "python3"
  },
  "language_info": {
   "codemirror_mode": {
    "name": "ipython",
    "version": 3
   },
   "file_extension": ".py",
   "mimetype": "text/x-python",
   "name": "python",
   "nbconvert_exporter": "python",
   "pygments_lexer": "ipython3",
   "version": "3.11.9"
  }
 },
 "nbformat": 4,
 "nbformat_minor": 2
}
