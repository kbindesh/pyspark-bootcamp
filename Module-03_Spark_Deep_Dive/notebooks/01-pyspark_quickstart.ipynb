{
 "cells": [
  {
   "cell_type": "markdown",
   "metadata": {},
   "source": [
    "## Introduction to Pyspark\n",
    "\n",
    "In this section, we will learn following concepts:\n",
    "1. Import \"pyspark\" and other library packages\n",
    "2. Create a new spark session | Attributes of SparkSession\n",
    "3. Reading a .csv file (local) using PySpark\n",
    "4. Reading a .csv file (remote) using PySpark\n",
    "5. Display the contents of the .csv file using show() function"
   ]
  },
  {
   "cell_type": "code",
   "execution_count": 1,
   "metadata": {},
   "outputs": [],
   "source": [
    "# import pyspark package\n",
    "import pyspark\n",
    "from pyspark.sql import SparkSession"
   ]
  },
  {
   "cell_type": "code",
   "execution_count": 2,
   "metadata": {},
   "outputs": [],
   "source": [
    "# Create a new Spark session\n",
    "spark=SparkSession.builder.appName(\"BinDataframeApp\").getOrCreate()"
   ]
  },
  {
   "cell_type": "markdown",
   "metadata": {},
   "source": [
    "Create a new .csv file here to process it using pyspark in later steps. Attached are some samples .csv datasets."
   ]
  },
  {
   "cell_type": "code",
   "execution_count": 3,
   "metadata": {},
   "outputs": [
    {
     "data": {
      "text/html": [
       "\n",
       "            <div>\n",
       "                <p><b>SparkSession - in-memory</b></p>\n",
       "                \n",
       "        <div>\n",
       "            <p><b>SparkContext</b></p>\n",
       "\n",
       "            <p><a href=\"http://192.168.1.33:4040\">Spark UI</a></p>\n",
       "\n",
       "            <dl>\n",
       "              <dt>Version</dt>\n",
       "                <dd><code>v3.4.3</code></dd>\n",
       "              <dt>Master</dt>\n",
       "                <dd><code>local[*]</code></dd>\n",
       "              <dt>AppName</dt>\n",
       "                <dd><code>BinDataframeApp</code></dd>\n",
       "            </dl>\n",
       "        </div>\n",
       "        \n",
       "            </div>\n",
       "        "
      ],
      "text/plain": [
       "<pyspark.sql.session.SparkSession at 0x28ccdb05dd0>"
      ]
     },
     "execution_count": 3,
     "metadata": {},
     "output_type": "execute_result"
    }
   ],
   "source": [
    "# Display the spark session details\n",
    "spark"
   ]
  },
  {
   "cell_type": "code",
   "execution_count": 17,
   "metadata": {},
   "outputs": [],
   "source": [
    "# Loads a CSV file and returns the result as a DataFrame\n",
    "# Ref: https://spark.apache.org/docs/latest/api/python/reference/pyspark.sql/api/pyspark.sql.DataFrameReader.csv.html\n",
    "\n",
    "csv_df = spark.read.csv('./datasets/country_wise_latest.csv')"
   ]
  },
  {
   "cell_type": "code",
   "execution_count": 5,
   "metadata": {},
   "outputs": [
    {
     "name": "stdout",
     "output_type": "stream",
     "text": [
      "+-------------------+---------+------+---------+------+---------+----------+-------------+--------------------+\n",
      "|                _c0|      _c1|   _c2|      _c3|   _c4|      _c5|       _c6|          _c7|                 _c8|\n",
      "+-------------------+---------+------+---------+------+---------+----------+-------------+--------------------+\n",
      "|     Country/Region|Confirmed|Deaths|Recovered|Active|New cases|New deaths|New recovered|          WHO Region|\n",
      "|        Afghanistan|    36263|  1269|    25198|  9796|      106|        10|           18|Eastern Mediterra...|\n",
      "|            Albania|     4880|   144|     2745|  1991|      117|         6|           63|              Europe|\n",
      "|            Algeria|    27973|  1163|    18837|  7973|      616|         8|          749|              Africa|\n",
      "|            Andorra|      907|    52|      803|    52|       10|         0|            0|              Europe|\n",
      "|             Angola|      950|    41|      242|   667|       18|         1|            0|              Africa|\n",
      "|Antigua and Barbuda|       86|     3|       65|    18|        4|         0|            5|            Americas|\n",
      "|          Argentina|   167416|  3059|    72575| 91782|     4890|       120|         2057|            Americas|\n",
      "|            Armenia|    37390|   711|    26665| 10014|       73|         6|          187|              Europe|\n",
      "|          Australia|    15303|   167|     9311|  5825|      368|         6|          137|     Western Pacific|\n",
      "|            Austria|    20558|   713|    18246|  1599|       86|         1|           37|              Europe|\n",
      "|         Azerbaijan|    30446|   423|    23242|  6781|      396|         6|          558|              Europe|\n",
      "|            Bahamas|      382|    11|       91|   280|       40|         0|            0|            Americas|\n",
      "|            Bahrain|    39482|   141|    36110|  3231|      351|         1|          421|Eastern Mediterra...|\n",
      "|         Bangladesh|   226225|  2965|   125683| 97577|     2772|        37|         1801|     South-East Asia|\n",
      "|           Barbados|      110|     7|       94|     9|        0|         0|            0|            Americas|\n",
      "|            Belarus|    67251|   538|    60492|  6221|      119|         4|           67|              Europe|\n",
      "|            Belgium|    66428|  9822|    17452| 39154|      402|         1|           14|              Europe|\n",
      "|             Belize|       48|     2|       26|    20|        0|         0|            0|            Americas|\n",
      "|              Benin|     1770|    35|     1036|   699|        0|         0|            0|              Africa|\n",
      "+-------------------+---------+------+---------+------+---------+----------+-------------+--------------------+\n",
      "only showing top 20 rows\n",
      "\n"
     ]
    }
   ],
   "source": [
    "# See the created dataframe\n",
    "csv_df.show()"
   ]
  },
  {
   "cell_type": "code",
   "execution_count": 6,
   "metadata": {},
   "outputs": [
    {
     "name": "stdout",
     "output_type": "stream",
     "text": [
      "+-------------------+---------+------+---------+------+---------+----------+-------------+--------------------+\n",
      "|     Country/Region|Confirmed|Deaths|Recovered|Active|New cases|New deaths|New recovered|          WHO Region|\n",
      "+-------------------+---------+------+---------+------+---------+----------+-------------+--------------------+\n",
      "|        Afghanistan|    36263|  1269|    25198|  9796|      106|        10|           18|Eastern Mediterra...|\n",
      "|            Albania|     4880|   144|     2745|  1991|      117|         6|           63|              Europe|\n",
      "|            Algeria|    27973|  1163|    18837|  7973|      616|         8|          749|              Africa|\n",
      "|            Andorra|      907|    52|      803|    52|       10|         0|            0|              Europe|\n",
      "|             Angola|      950|    41|      242|   667|       18|         1|            0|              Africa|\n",
      "|Antigua and Barbuda|       86|     3|       65|    18|        4|         0|            5|            Americas|\n",
      "|          Argentina|   167416|  3059|    72575| 91782|     4890|       120|         2057|            Americas|\n",
      "|            Armenia|    37390|   711|    26665| 10014|       73|         6|          187|              Europe|\n",
      "|          Australia|    15303|   167|     9311|  5825|      368|         6|          137|     Western Pacific|\n",
      "|            Austria|    20558|   713|    18246|  1599|       86|         1|           37|              Europe|\n",
      "|         Azerbaijan|    30446|   423|    23242|  6781|      396|         6|          558|              Europe|\n",
      "|            Bahamas|      382|    11|       91|   280|       40|         0|            0|            Americas|\n",
      "|            Bahrain|    39482|   141|    36110|  3231|      351|         1|          421|Eastern Mediterra...|\n",
      "|         Bangladesh|   226225|  2965|   125683| 97577|     2772|        37|         1801|     South-East Asia|\n",
      "|           Barbados|      110|     7|       94|     9|        0|         0|            0|            Americas|\n",
      "|            Belarus|    67251|   538|    60492|  6221|      119|         4|           67|              Europe|\n",
      "|            Belgium|    66428|  9822|    17452| 39154|      402|         1|           14|              Europe|\n",
      "|             Belize|       48|     2|       26|    20|        0|         0|            0|            Americas|\n",
      "|              Benin|     1770|    35|     1036|   699|        0|         0|            0|              Africa|\n",
      "|             Bhutan|       99|     0|       86|    13|        4|         0|            1|     South-East Asia|\n",
      "+-------------------+---------+------+---------+------+---------+----------+-------------+--------------------+\n",
      "only showing top 20 rows\n",
      "\n"
     ]
    }
   ],
   "source": [
    "# Consider csv column header in the dataframe as column headers\n",
    "spark.read.option('header','true').csv('./datasets/country_wise_latest.csv').show()"
   ]
  },
  {
   "cell_type": "code",
   "execution_count": 16,
   "metadata": {},
   "outputs": [
    {
     "name": "stdout",
     "output_type": "stream",
     "text": [
      "root\n",
      " |-- _c0: string (nullable = true)\n",
      " |-- _c1: string (nullable = true)\n",
      " |-- _c2: string (nullable = true)\n",
      " |-- _c3: string (nullable = true)\n",
      " |-- _c4: string (nullable = true)\n",
      " |-- _c5: string (nullable = true)\n",
      " |-- _c6: string (nullable = true)\n",
      " |-- _c7: string (nullable = true)\n",
      " |-- _c8: string (nullable = true)\n",
      "\n"
     ]
    }
   ],
   "source": [
    "# Print the schema of the dataframe\n",
    "csv_df.printSchema()"
   ]
  },
  {
   "cell_type": "code",
   "execution_count": 7,
   "metadata": {},
   "outputs": [
    {
     "data": {
      "text/plain": [
       "pyspark.sql.dataframe.DataFrame"
      ]
     },
     "execution_count": 7,
     "metadata": {},
     "output_type": "execute_result"
    }
   ],
   "source": [
    "# Check the datatype of the csv_df (dataframe)\n",
    "type(csv_df)"
   ]
  },
  {
   "cell_type": "code",
   "execution_count": 10,
   "metadata": {},
   "outputs": [
    {
     "data": {
      "text/plain": [
       "[Row(_c0='Country/Region', _c1='Confirmed', _c2='Deaths', _c3='Recovered', _c4='Active', _c5='New cases', _c6='New deaths', _c7='New recovered', _c8='WHO Region'),\n",
       " Row(_c0='Afghanistan', _c1='36263', _c2='1269', _c3='25198', _c4='9796', _c5='106', _c6='10', _c7='18', _c8='Eastern Mediterranean'),\n",
       " Row(_c0='Albania', _c1='4880', _c2='144', _c3='2745', _c4='1991', _c5='117', _c6='6', _c7='63', _c8='Europe')]"
      ]
     },
     "execution_count": 10,
     "metadata": {},
     "output_type": "execute_result"
    }
   ],
   "source": [
    "# Diplay n number of rows from the dataframe\n",
    "csv_df.head(3)"
   ]
  }
 ],
 "metadata": {
  "kernelspec": {
   "display_name": "Python 3",
   "language": "python",
   "name": "python3"
  },
  "language_info": {
   "codemirror_mode": {
    "name": "ipython",
    "version": 3
   },
   "file_extension": ".py",
   "mimetype": "text/x-python",
   "name": "python",
   "nbconvert_exporter": "python",
   "pygments_lexer": "ipython3",
   "version": "3.11.9"
  }
 },
 "nbformat": 4,
 "nbformat_minor": 2
}
